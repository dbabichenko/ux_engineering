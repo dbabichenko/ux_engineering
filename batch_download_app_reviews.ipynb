{
 "cells": [
  {
   "cell_type": "code",
   "execution_count": 1,
   "id": "def4730b",
   "metadata": {},
   "outputs": [
    {
     "name": "stdout",
     "output_type": "stream",
     "text": [
      "Collecting google-play-scraper\n",
      "  Downloading google_play_scraper-1.2.7-py3-none-any.whl (28 kB)\n",
      "Installing collected packages: google-play-scraper\n",
      "Successfully installed google-play-scraper-1.2.7\n"
     ]
    }
   ],
   "source": [
    "!pip install google-play-scraper\n",
    "\n",
    "#https://pypi.org/project/google-play-scraper/"
   ]
  },
  {
   "cell_type": "code",
   "execution_count": 2,
   "id": "e8dd858b",
   "metadata": {},
   "outputs": [],
   "source": [
    "from google_play_scraper import app, reviews_all\n"
   ]
  },
  {
   "cell_type": "code",
   "execution_count": 5,
   "id": "a87ac538",
   "metadata": {},
   "outputs": [],
   "source": [
    "app_id = 'com.fantome.penguinisle'\n",
    "result = reviews_all(\n",
    "    app_id,\n",
    "    sleep_milliseconds=0, # defaults to 0\n",
    "    lang='en', # defaults to 'en'\n",
    "    country='us', # defaults to 'us'\n",
    "    filter_score_with=5 # defaults to None(means all score)\n",
    ")\n"
   ]
  },
  {
   "cell_type": "code",
   "execution_count": 7,
   "id": "35f92644",
   "metadata": {},
   "outputs": [
    {
     "data": {
      "text/html": [
       "<div>\n",
       "<style scoped>\n",
       "    .dataframe tbody tr th:only-of-type {\n",
       "        vertical-align: middle;\n",
       "    }\n",
       "\n",
       "    .dataframe tbody tr th {\n",
       "        vertical-align: top;\n",
       "    }\n",
       "\n",
       "    .dataframe thead th {\n",
       "        text-align: right;\n",
       "    }\n",
       "</style>\n",
       "<table border=\"1\" class=\"dataframe\">\n",
       "  <thead>\n",
       "    <tr style=\"text-align: right;\">\n",
       "      <th></th>\n",
       "      <th>reviewId</th>\n",
       "      <th>userName</th>\n",
       "      <th>userImage</th>\n",
       "      <th>content</th>\n",
       "      <th>score</th>\n",
       "      <th>thumbsUpCount</th>\n",
       "      <th>reviewCreatedVersion</th>\n",
       "      <th>at</th>\n",
       "      <th>replyContent</th>\n",
       "      <th>repliedAt</th>\n",
       "      <th>appVersion</th>\n",
       "    </tr>\n",
       "  </thead>\n",
       "  <tbody>\n",
       "    <tr>\n",
       "      <th>0</th>\n",
       "      <td>011a1d9d-2e12-4ba0-a9c6-3f8ca84a23c5</td>\n",
       "      <td>A Google user</td>\n",
       "      <td>https://play-lh.googleusercontent.com/EGemoI2N...</td>\n",
       "      <td>Is very good game!</td>\n",
       "      <td>5</td>\n",
       "      <td>0</td>\n",
       "      <td>None</td>\n",
       "      <td>2024-08-14 09:27:06</td>\n",
       "      <td>None</td>\n",
       "      <td>NaT</td>\n",
       "      <td>None</td>\n",
       "    </tr>\n",
       "    <tr>\n",
       "      <th>1</th>\n",
       "      <td>6b2bc0c2-5057-4a42-8fbd-d27b00e6df8e</td>\n",
       "      <td>A Google user</td>\n",
       "      <td>https://play-lh.googleusercontent.com/EGemoI2N...</td>\n",
       "      <td>This game heal me from anxiety with this sound...</td>\n",
       "      <td>5</td>\n",
       "      <td>0</td>\n",
       "      <td>1.74.0</td>\n",
       "      <td>2024-08-13 18:15:26</td>\n",
       "      <td>None</td>\n",
       "      <td>NaT</td>\n",
       "      <td>1.74.0</td>\n",
       "    </tr>\n",
       "    <tr>\n",
       "      <th>2</th>\n",
       "      <td>33e52766-d512-44c2-a48e-dc855dcac76f</td>\n",
       "      <td>A Google user</td>\n",
       "      <td>https://play-lh.googleusercontent.com/EGemoI2N...</td>\n",
       "      <td>❤️ penguin</td>\n",
       "      <td>5</td>\n",
       "      <td>0</td>\n",
       "      <td>1.74.0</td>\n",
       "      <td>2024-08-11 13:50:31</td>\n",
       "      <td>None</td>\n",
       "      <td>NaT</td>\n",
       "      <td>1.74.0</td>\n",
       "    </tr>\n",
       "    <tr>\n",
       "      <th>3</th>\n",
       "      <td>e50e8293-2e2c-4e87-925e-8494d116ec78</td>\n",
       "      <td>A Google user</td>\n",
       "      <td>https://play-lh.googleusercontent.com/EGemoI2N...</td>\n",
       "      <td>I like penguins</td>\n",
       "      <td>5</td>\n",
       "      <td>0</td>\n",
       "      <td>1.74.0</td>\n",
       "      <td>2024-08-11 13:42:46</td>\n",
       "      <td>None</td>\n",
       "      <td>NaT</td>\n",
       "      <td>1.74.0</td>\n",
       "    </tr>\n",
       "    <tr>\n",
       "      <th>4</th>\n",
       "      <td>6001cc27-c7aa-4068-8ddd-fcaaafe36168</td>\n",
       "      <td>A Google user</td>\n",
       "      <td>https://play-lh.googleusercontent.com/EGemoI2N...</td>\n",
       "      <td>The game is very peaceful and wonderful</td>\n",
       "      <td>5</td>\n",
       "      <td>0</td>\n",
       "      <td>1.74.0</td>\n",
       "      <td>2024-08-10 04:19:50</td>\n",
       "      <td>None</td>\n",
       "      <td>NaT</td>\n",
       "      <td>1.74.0</td>\n",
       "    </tr>\n",
       "  </tbody>\n",
       "</table>\n",
       "</div>"
      ],
      "text/plain": [
       "                               reviewId       userName  \\\n",
       "0  011a1d9d-2e12-4ba0-a9c6-3f8ca84a23c5  A Google user   \n",
       "1  6b2bc0c2-5057-4a42-8fbd-d27b00e6df8e  A Google user   \n",
       "2  33e52766-d512-44c2-a48e-dc855dcac76f  A Google user   \n",
       "3  e50e8293-2e2c-4e87-925e-8494d116ec78  A Google user   \n",
       "4  6001cc27-c7aa-4068-8ddd-fcaaafe36168  A Google user   \n",
       "\n",
       "                                           userImage  \\\n",
       "0  https://play-lh.googleusercontent.com/EGemoI2N...   \n",
       "1  https://play-lh.googleusercontent.com/EGemoI2N...   \n",
       "2  https://play-lh.googleusercontent.com/EGemoI2N...   \n",
       "3  https://play-lh.googleusercontent.com/EGemoI2N...   \n",
       "4  https://play-lh.googleusercontent.com/EGemoI2N...   \n",
       "\n",
       "                                             content  score  thumbsUpCount  \\\n",
       "0                                 Is very good game!      5              0   \n",
       "1  This game heal me from anxiety with this sound...      5              0   \n",
       "2                                         ❤️ penguin      5              0   \n",
       "3                                    I like penguins      5              0   \n",
       "4            The game is very peaceful and wonderful      5              0   \n",
       "\n",
       "  reviewCreatedVersion                  at replyContent repliedAt appVersion  \n",
       "0                 None 2024-08-14 09:27:06         None       NaT       None  \n",
       "1               1.74.0 2024-08-13 18:15:26         None       NaT     1.74.0  \n",
       "2               1.74.0 2024-08-11 13:50:31         None       NaT     1.74.0  \n",
       "3               1.74.0 2024-08-11 13:42:46         None       NaT     1.74.0  \n",
       "4               1.74.0 2024-08-10 04:19:50         None       NaT     1.74.0  "
      ]
     },
     "execution_count": 7,
     "metadata": {},
     "output_type": "execute_result"
    }
   ],
   "source": [
    "import pandas as pd\n",
    "df = pd.DataFrame(result)\n",
    "df.head()"
   ]
  },
  {
   "cell_type": "code",
   "execution_count": null,
   "id": "a10a055c",
   "metadata": {},
   "outputs": [],
   "source": [
    "df."
   ]
  }
 ],
 "metadata": {
  "kernelspec": {
   "display_name": "Python 3 (ipykernel)",
   "language": "python",
   "name": "python3"
  },
  "language_info": {
   "codemirror_mode": {
    "name": "ipython",
    "version": 3
   },
   "file_extension": ".py",
   "mimetype": "text/x-python",
   "name": "python",
   "nbconvert_exporter": "python",
   "pygments_lexer": "ipython3",
   "version": "3.9.13"
  }
 },
 "nbformat": 4,
 "nbformat_minor": 5
}
